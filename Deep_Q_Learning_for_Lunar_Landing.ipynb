{
  "cells": [
    {
      "cell_type": "markdown",
      "metadata": {
        "id": "view-in-github",
        "colab_type": "text"
      },
      "source": [
        "<a href=\"https://colab.research.google.com/github/mariachar/AI-projects/blob/main/Deep_Q_Learning_for_Lunar_Landing.ipynb\" target=\"_parent\"><img src=\"https://colab.research.google.com/assets/colab-badge.svg\" alt=\"Open In Colab\"/></a>"
      ]
    },
    {
      "cell_type": "markdown",
      "metadata": {
        "id": "LbZcI9ZXHl3a"
      },
      "source": [
        "# Deep Q-Learning for Lunar Landing"
      ]
    },
    {
      "cell_type": "markdown",
      "source": [
        "### Lunar Lander is a game where one maneuvers a moon lander to attempt to carefully land it on a landing pad.\n",
        "\n",
        "<img src=https://wingedsheep.com/content/images/2020/08/lunarlanderpost-2.png>"
      ],
      "metadata": {
        "id": "JNp7ImTurZwJ"
      }
    },
    {
      "cell_type": "markdown",
      "metadata": {
        "id": "E8yPRjteXgPb"
      },
      "source": [
        "## Part 0 - Installing the required packages and importing the libraries"
      ]
    },
    {
      "cell_type": "markdown",
      "metadata": {
        "id": "slEm5teGWjWU"
      },
      "source": [
        "### Installing Gymnasium"
      ]
    },
    {
      "cell_type": "code",
      "execution_count": null,
      "metadata": {
        "id": "dbnq3XpoKa_7"
      },
      "outputs": [],
      "source": [
        "!pip install gymnasium\n",
        "!pip install \"gymnasium[atari, accept-rom-license]\"\n",
        "!apt-get install -y swig\n",
        "!pip install gymnasium[box2d]"
      ]
    },
    {
      "cell_type": "markdown",
      "metadata": {
        "id": "brqiMN3UW9T9"
      },
      "source": [
        "### Importing the libraries"
      ]
    },
    {
      "cell_type": "code",
      "execution_count": 2,
      "metadata": {
        "id": "mZaKXP_aMl9O"
      },
      "outputs": [],
      "source": [
        "import os\n",
        "import random\n",
        "import numpy as np\n",
        "import torch\n",
        "import torch.nn as nn\n",
        "import torch.optim as optim\n",
        "import torch.nn.functional as F\n",
        "import torch.autograd as autograd\n",
        "from torch.autograd import Variable\n",
        "from collections import deque, namedtuple"
      ]
    },
    {
      "cell_type": "markdown",
      "metadata": {
        "id": "EzlDKXvkXzGI"
      },
      "source": [
        "## Part 1 - Building the AI"
      ]
    },
    {
      "cell_type": "markdown",
      "metadata": {
        "id": "UtG6Zc83YYy3"
      },
      "source": [
        "### Creating the architecture of the Neural Network"
      ]
    },
    {
      "cell_type": "code",
      "source": [
        "class Network(nn.Module):\n",
        "  def __init__(self, state_size, action_size, seed=42):\n",
        "    super(Network, self).__init__()\n",
        "    self.seed = torch.manual_seed(seed)\n",
        "    self.fc1 = nn.Linear(state_size, 64)\n",
        "    self.fc2 = nn.Linear(64, 64)\n",
        "    self.fc3 = nn.Linear(64, action_size)\n",
        "\n",
        "\n",
        "  def forward(self, state):\n",
        "    x = self.fc1(state)\n",
        "    x = F.relu(x)\n",
        "    x = self.fc2(x)\n",
        "    x = F.relu(x)\n",
        "    return self.fc3(x)\n"
      ],
      "metadata": {
        "id": "zkNapgZ4tOH5"
      },
      "execution_count": 3,
      "outputs": []
    },
    {
      "cell_type": "markdown",
      "metadata": {
        "id": "UxVrBnFWZKb1"
      },
      "source": [
        "## Part 2 - Training the AI"
      ]
    },
    {
      "cell_type": "markdown",
      "metadata": {
        "id": "T364fz9qZb2j"
      },
      "source": [
        "### Setting up the environment"
      ]
    },
    {
      "cell_type": "code",
      "source": [
        "import gymnasium as gym\n",
        "env = gym.make('LunarLander-v2')\n",
        "state_shape = env.observation_space.shape\n",
        "state_size = env.observation_space.shape[0]\n",
        "number_actions = env.action_space.n\n",
        "print('state_shape: ', state_shape)\n",
        "print('state_size: ', state_size)\n",
        "print('number_actions: ', number_actions)"
      ],
      "metadata": {
        "id": "h0sLdMq-wq1O",
        "colab": {
          "base_uri": "https://localhost:8080/"
        },
        "outputId": "4722de66-7132-45be-868a-e43eca5712fc"
      },
      "execution_count": 4,
      "outputs": [
        {
          "output_type": "stream",
          "name": "stdout",
          "text": [
            "state_shape:  (8,)\n",
            "state_size:  8\n",
            "number_actions:  4\n"
          ]
        }
      ]
    },
    {
      "cell_type": "markdown",
      "metadata": {
        "id": "c_dZmOIvZgj-"
      },
      "source": [
        "### Initializing the hyperparameters"
      ]
    },
    {
      "cell_type": "code",
      "source": [
        "learning_rate = 5e-4\n",
        "minibatch_size = 100\n",
        "discount_factor = 0.99\n",
        "replay_buffer_size = int(1e5)\n",
        "interpolation_parameter = 1e-3"
      ],
      "metadata": {
        "id": "kri-klOE8uog",
        "colab": {
          "base_uri": "https://localhost:8080/"
        },
        "outputId": "e7cf6e56-580d-480b-c87b-00fb4c64a79b"
      },
      "execution_count": 5,
      "outputs": [
        {
          "output_type": "stream",
          "name": "stderr",
          "text": [
            "/usr/local/lib/python3.10/dist-packages/ipykernel/ipkernel.py:283: DeprecationWarning: `should_run_async` will not call `transform_cell` automatically in the future. Please pass the result to `transformed_cell` argument and any exception that happen during thetransform in `preprocessing_exc_tuple` in IPython 7.17 and above.\n",
            "  and should_run_async(code)\n"
          ]
        }
      ]
    },
    {
      "cell_type": "markdown",
      "metadata": {
        "id": "8hD_Vs-bYnip"
      },
      "source": [
        "### Implementing Experience Replay"
      ]
    },
    {
      "cell_type": "code",
      "source": [
        "class ReplayMemory(object):\n",
        "\n",
        "  def __init__ (self, capacity):\n",
        "    self.device = torch.device(\"cuda:0\" if torch.cuda.is_available() else \"cpu\")\n",
        "    self.capacity = capacity\n",
        "    self.memory = []\n",
        "\n",
        "  def push(self, event):\n",
        "    self.memory.append(event)\n",
        "    if len(self.memory) > self.capacity:\n",
        "      del self.memory[0]\n",
        "\n",
        "  def sample(self, batch_size):\n",
        "    experiences = random.sample(self.memory, k = batch_size)\n",
        "    states = torch.from_numpy(np.vstack([e[0] for e in experiences if e is not None])).float().to(self.device)\n",
        "    actions = torch.from_numpy(np.vstack([e[1] for e in experiences if e is not None])).long().to(self.device)\n",
        "    rewards = torch.from_numpy(np.vstack([e[2] for e in experiences if e is not None])).float().to(self.device)\n",
        "    next_states = torch.from_numpy(np.vstack([e[3] for e in experiences if e is not None])).float().to(self.device)\n",
        "    dones = torch.from_numpy(np.vstack([e[4] for e in experiences if e is not None]).astype(np.uint8)).float().to(self.device)\n",
        "    return states, next_states, actions, rewards, dones\n",
        "\n"
      ],
      "metadata": {
        "id": "UnwNWGOA9lKc"
      },
      "execution_count": 6,
      "outputs": []
    },
    {
      "cell_type": "markdown",
      "metadata": {
        "id": "JmEkbFbUY6Jt"
      },
      "source": [
        "### Implementing the DQN class"
      ]
    },
    {
      "cell_type": "code",
      "source": [
        "class Agent():\n",
        "\n",
        "  def __init__(self, state_size, action_size):\n",
        "    self.device = torch.device(\"cuda:0\" if torch.cuda.is_available() else \"cpu\")\n",
        "    self.state_size = state_size\n",
        "    self.action_size = action_size\n",
        "    self.local_qnetwork =  Network(state_size, action_size).to(self.device)\n",
        "    self.target_qnetwork =  Network(state_size, action_size).to(self.device)\n",
        "    self.optimizer = optim.Adam(self.local_qnetwork.parameters(), lr = learning_rate)\n",
        "    self.memory = ReplayMemory(replay_buffer_size)\n",
        "    self.t_step = 0\n",
        "\n",
        "\n",
        "  def step(self, state, action, reward, next_state, done):\n",
        "    self.memory.push((state, action, reward, next_state, done))\n",
        "    self.t_step = (self.t_step + 1) % 4\n",
        "    if self.t_step  == 0:\n",
        "      if len(self.memory.memory) > minibatch_size:\n",
        "        experiences = self.memory.sample(100)\n",
        "        self.learn(experiences, discount_factor)\n",
        "\n",
        "\n",
        "  def act(self, state, epsilon=0.):\n",
        "    state = torch.from_numpy(state).float().unsqueeze(0).to(self.device)\n",
        "    self.local_qnetwork.eval()\n",
        "    with torch.no_grad():\n",
        "      action_values = self.local_qnetwork(state)\n",
        "    self.local_qnetwork.train()\n",
        "    if random.random() > epsilon:\n",
        "      return np.argmax(action_values.cpu().data.numpy())\n",
        "    else:\n",
        "      return random.choice(np.arange(self.action_size))\n",
        "\n",
        "\n",
        "  def learn(self, experiences, discount_factor):\n",
        "    states, next_states, actions, rewards, dones = experiences\n",
        "    next_q_targets = self.target_qnetwork(next_states).detach().max(1)[0].unsqueeze(1)\n",
        "    q_targets = rewards + (discount_factor * next_q_targets * ( 1 - dones))\n",
        "    q_expected = self.local_qnetwork(states).gather(1, actions)\n",
        "    loss = F.mse_loss(q_expected, q_targets)\n",
        "    self.optimizer.zero_grad()\n",
        "    loss.backward()\n",
        "    self.optimizer.step()\n",
        "    self.soft_update(self.local_qnetwork, self.target_qnetwork, interpolation_parameter)\n",
        "\n",
        "\n",
        "  def soft_update(self, local_model, target_model, interpolation_parameter):\n",
        "    for target_param, local_param in zip(target_model.parameters(), local_model.parameters()):\n",
        "      target_param.data.copy_(interpolation_parameter * local_param.data + (1.0 - interpolation_parameter) * target_param.data)\n"
      ],
      "metadata": {
        "id": "j8cX4xFzBZZH"
      },
      "execution_count": 7,
      "outputs": []
    },
    {
      "cell_type": "markdown",
      "metadata": {
        "id": "o1tZElccZmf6"
      },
      "source": [
        "### Initializing the DQN agent"
      ]
    },
    {
      "cell_type": "code",
      "source": [
        "agent = Agent(state_size, number_actions)"
      ],
      "metadata": {
        "id": "6k2nIsJa0f_l"
      },
      "execution_count": 8,
      "outputs": []
    },
    {
      "cell_type": "markdown",
      "metadata": {
        "id": "E8v0PtUfaVQp"
      },
      "source": [
        "### Training the DQN agent"
      ]
    },
    {
      "cell_type": "code",
      "source": [
        "number_episodes = 2000\n",
        "max_number_steps = 1000\n",
        "epsilon_starting_value = 1.0\n",
        "epsilon_ending_value = 0.01\n",
        "epsilon_decay_value = 0.995\n",
        "epsilon = epsilon_starting_value\n",
        "scores_100_episodes = deque(maxlen = 100)\n",
        "\n",
        "for episode in range(1, number_episodes + 1):\n",
        "  state, _ =env.reset()\n",
        "  score = 0\n",
        "  for t in range(max_number_steps):\n",
        "    action = agent.act(state, epsilon)\n",
        "    next_state, reward, done, _, _ = env.step(action)\n",
        "    agent.step(state, action, reward, next_state, done)\n",
        "    state = next_state\n",
        "    score += reward\n",
        "    if done:\n",
        "      break\n",
        "  scores_100_episodes.append(score)\n",
        "  epsilon = max(epsilon_ending_value, epsilon_decay_value * epsilon)\n",
        "  print(\"\\rEpisode {}\\tAverage Score: {:.2f}\".format(episode, np.mean(scores_100_episodes)), end = \"\")\n",
        "  if episode % 100 == 0:\n",
        "    print(\"\\rEpisode {}\\tAverage Score: {:.2f}\".format(episode, np.mean(scores_100_episodes)))\n",
        "  if np.mean(scores_100_episodes) >= 200.0:\n",
        "    print(\"\\nEnvironment solved in {:d} episodes!\\tAverage Score: {:.2f}\".format(episode - 100, np.mean(scores_100_episodes)))\n",
        "    torch.save(agent.local_qnetwork.state_dict(), \"checkpoint.pth\")\n",
        "    break\n"
      ],
      "metadata": {
        "id": "pv6RgwBlwlrd",
        "colab": {
          "base_uri": "https://localhost:8080/"
        },
        "outputId": "5ffc9883-c4ac-42a9-c428-364a6cc2db47"
      },
      "execution_count": 13,
      "outputs": [
        {
          "output_type": "stream",
          "name": "stdout",
          "text": [
            "Episode 100\tAverage Score: -101.38\n",
            "Episode 200\tAverage Score: -14.36\n",
            "Episode 300\tAverage Score: 85.61\n",
            "Episode 400\tAverage Score: 192.27\n",
            "Episode 407\tAverage Score: 200.71\n",
            "Environment solved in 307 episodes!\tAverage Score: 200.71\n"
          ]
        }
      ]
    },
    {
      "cell_type": "markdown",
      "source": [],
      "metadata": {
        "id": "Oqs3P-gDrX7O"
      }
    },
    {
      "cell_type": "markdown",
      "metadata": {
        "id": "O8CNwdOTcCoP"
      },
      "source": [
        "## Part 3 - Visualizing the results"
      ]
    },
    {
      "cell_type": "code",
      "execution_count": 14,
      "metadata": {
        "id": "cb9nVvU2Okhk",
        "colab": {
          "base_uri": "https://localhost:8080/",
          "height": 459
        },
        "outputId": "a7982ed5-d3e2-4a4b-acf8-2048d4fb6da2"
      },
      "outputs": [
        {
          "output_type": "stream",
          "name": "stderr",
          "text": [
            "WARNING:imageio_ffmpeg:IMAGEIO FFMPEG_WRITER WARNING: input image is not divisible by macro_block_size=16, resizing from (600, 400) to (608, 400) to ensure video compatibility with most codecs and players. To prevent resizing, make your input image divisible by the macro_block_size or set the macro_block_size to 1 (risking incompatibility).\n"
          ]
        },
        {
          "output_type": "display_data",
          "data": {
            "text/plain": [
              "<IPython.core.display.HTML object>"
            ],
            "text/html": [
              "<video alt=\"test\" autoplay\n",
              "                loop controls style=\"height: 400px;\">\n",
              "                <source src=\"data:video/mp4;base64,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\" type=\"video/mp4\" />\n",
              "             </video>"
            ]
          },
          "metadata": {}
        }
      ],
      "source": [
        "import glob\n",
        "import io\n",
        "import base64\n",
        "import imageio\n",
        "from IPython.display import HTML, display\n",
        "from gym.wrappers.monitoring.video_recorder import VideoRecorder\n",
        "\n",
        "def show_video_of_model(agent, env_name):\n",
        "    env = gym.make(env_name, render_mode='rgb_array')\n",
        "    state, _ = env.reset()\n",
        "    done = False\n",
        "    frames = []\n",
        "    while not done:\n",
        "        frame = env.render()\n",
        "        frames.append(frame)\n",
        "        action = agent.act(state)\n",
        "        state, reward, done, _, _ = env.step(action.item())\n",
        "    env.close()\n",
        "    imageio.mimsave('video.mp4', frames, fps=30)\n",
        "\n",
        "show_video_of_model(agent, 'LunarLander-v2')\n",
        "\n",
        "def show_video():\n",
        "    mp4list = glob.glob('*.mp4')\n",
        "    if len(mp4list) > 0:\n",
        "        mp4 = mp4list[0]\n",
        "        video = io.open(mp4, 'r+b').read()\n",
        "        encoded = base64.b64encode(video)\n",
        "        display(HTML(data='''<video alt=\"test\" autoplay\n",
        "                loop controls style=\"height: 400px;\">\n",
        "                <source src=\"data:video/mp4;base64,{0}\" type=\"video/mp4\" />\n",
        "             </video>'''.format(encoded.decode('ascii'))))\n",
        "    else:\n",
        "        print(\"Could not find video\")\n",
        "\n",
        "show_video()"
      ]
    }
  ],
  "metadata": {
    "colab": {
      "provenance": [],
      "toc_visible": true,
      "include_colab_link": true
    },
    "kernelspec": {
      "display_name": "Python 3",
      "name": "python3"
    },
    "language_info": {
      "name": "python"
    }
  },
  "nbformat": 4,
  "nbformat_minor": 0
}